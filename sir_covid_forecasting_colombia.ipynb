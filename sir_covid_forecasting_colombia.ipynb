{
  "nbformat": 4,
  "nbformat_minor": 0,
  "metadata": {
    "colab": {
      "name": "sir_covid_forecasting_colombia.ipynb",
      "provenance": [],
      "toc_visible": true,
      "authorship_tag": "ABX9TyPXoURjWD9UCx+Afubh6nWp",
      "include_colab_link": true
    },
    "kernelspec": {
      "name": "python3",
      "display_name": "Python 3"
    }
  },
  "cells": [
    {
      "cell_type": "markdown",
      "metadata": {
        "id": "view-in-github",
        "colab_type": "text"
      },
      "source": [
        "<a href=\"https://colab.research.google.com/github/sjdonado/covid19-spread-forecast/blob/master/sir_covid_forecasting_colombia.ipynb\" target=\"_parent\"><img src=\"https://colab.research.google.com/assets/colab-badge.svg\" alt=\"Open In Colab\"/></a>"
      ]
    },
    {
      "cell_type": "markdown",
      "metadata": {
        "id": "z1iySN_ibifl",
        "colab_type": "text"
      },
      "source": [
        "# COVID-19 Spread Forecasting\n",
        "\n",
        "This is a research project with the purpose of building a model to make forecasts of the COVID-19 in Colombia.\n",
        "\n",
        "Students:\n",
        "- Oskhar Arrieta\n",
        "- Juan Estrada\n",
        "- Sharon Figueroa\n",
        "- Brian Ramirez\n",
        "- Juan Rodriguez\n",
        "- Cristian Yepes\n",
        "\n",
        "*Universidad del Norte, 2020*"
      ]
    },
    {
      "cell_type": "markdown",
      "metadata": {
        "id": "V1zP_9qPcUkm",
        "colab_type": "text"
      },
      "source": [
        "# Setup"
      ]
    },
    {
      "cell_type": "code",
      "metadata": {
        "id": "g3BNpsszaiJv",
        "colab_type": "code",
        "colab": {}
      },
      "source": [
        "# Import general libs\n",
        "import numpy as np\n",
        "from google.colab import drive\n",
        "drive.mount('/content/drive')\n",
        "DRIVE_ROOT_PATH = '/content/drive/Shared drives/data-mining/'"
      ],
      "execution_count": 0,
      "outputs": []
    },
    {
      "cell_type": "markdown",
      "metadata": {
        "id": "Qu3hu0iAbjZU",
        "colab_type": "text"
      },
      "source": [
        "# Data preparation"
      ]
    },
    {
      "cell_type": "markdown",
      "metadata": {
        "id": "2X-lGDTZchaN",
        "colab_type": "text"
      },
      "source": [
        "## Load dataset"
      ]
    },
    {
      "cell_type": "code",
      "metadata": {
        "id": "-a40qqCMckjh",
        "colab_type": "code",
        "colab": {}
      },
      "source": [
        "# Read local data\n",
        "import pandas as pd\n",
        "dataset = pd.read_csv(f'{DRIVE_ROOT_PATH}dataset/Casos_positivos_de_COVID-19_en_Colombia.csv',\n",
        "                      sep=',',\n",
        "                      infer_datetime_format=True\n",
        "                     )\n",
        "\n",
        "# Use custom columns name\n",
        "dataset.columns = [\n",
        "                    'id_case', \n",
        "                    'notification_date',\n",
        "                    'code', \n",
        "                    'city',\n",
        "                    'department',\n",
        "                    'current_status',\n",
        "                    'age',\n",
        "                    'sex',\n",
        "                    'type',\n",
        "                    'status',\n",
        "                    'country_origin',\n",
        "                    'fis',\n",
        "                    'death_date',\n",
        "                    'diagnosis_date',\n",
        "                    'recover_date',\n",
        "                    'web_report_date',\n",
        "                    'recover_type'\n",
        "                  ]"
      ],
      "execution_count": 0,
      "outputs": []
    },
    {
      "cell_type": "markdown",
      "metadata": {
        "id": "pnQ_xC7ldpu9",
        "colab_type": "text"
      },
      "source": [
        "## Preprocess dataset"
      ]
    },
    {
      "cell_type": "code",
      "metadata": {
        "id": "Do-tVOhnduMJ",
        "colab_type": "code",
        "colab": {}
      },
      "source": [
        "# Lowercase the current_status column. Some labels have capital letter\n",
        "dataset.current_status = dataset.current_status.str.casefold()\n",
        "\n",
        "# Merge categories into 3 (Recovered, Confirmed, Dead)\n",
        "dataset.loc[\n",
        "            dataset.current_status.isin(['recuperado', 'recuperado (hospital)']), \n",
        "            'current_status'\n",
        "           ] = 'recovered'\n",
        "\n",
        "dataset.loc[\n",
        "            dataset.current_status.isin(['casa', 'hospital', 'hospital uci']), \n",
        "            'current_status'\n",
        "           ] = 'confirmed'\n",
        "\n",
        "dataset.loc[dataset.current_status == 'fallecido', 'current_status'] = 'dead'\n",
        "\n",
        "# Parse dates columns into Datetime\n",
        "dataset.diagnosis_date = pd.to_datetime(dataset.loc[dataset.diagnosis_date != 'SIN DATO', 'diagnosis_date'])\n",
        "dataset.death_date = pd.to_datetime(dataset.loc[dataset.death_date != 'SIN DATO', 'death_date'])\n",
        "dataset.recover_date = pd.to_datetime(dataset.loc[dataset.recover_date != 'SIN DATO', 'recover_date'])"
      ],
      "execution_count": 0,
      "outputs": []
    },
    {
      "cell_type": "markdown",
      "metadata": {
        "id": "HSasn5GVmqmB",
        "colab_type": "text"
      },
      "source": [
        "## Generate time series from the current data"
      ]
    },
    {
      "cell_type": "code",
      "metadata": {
        "id": "aYshBd3XmvDh",
        "colab_type": "code",
        "colab": {
          "base_uri": "https://localhost:8080/",
          "height": 517
        },
        "outputId": "43b42742-f31b-4e3f-9acb-a4bfc33c6479"
      },
      "source": [
        "# Split data into arrays which represent all the possible statuses\n",
        "diagnosis_dates = dataset.loc[dataset.diagnosis_date.notna(), 'diagnosis_date']\n",
        "death_dates = dataset.loc[dataset.death_date.notna(), 'death_date']\n",
        "recovered_dates = dataset.loc[dataset.recover_date.notna(), 'recover_date']\n",
        "\n",
        "# Get minimum and maximun date in order to build the time range\n",
        "first_date = dataset.diagnosis_date[0]\n",
        "last_date = max([*diagnosis_dates, *death_dates, *recovered_dates])\n",
        "\n",
        "total_days = (last_date - first_date).days\n",
        "Recovered = []\n",
        "Confirmed = []\n",
        "Deaths = []\n",
        "\n",
        "# Create the time range\n",
        "Time = pd.date_range(start=first_date, end=last_date).tolist()\n",
        "\n",
        "# Loop through the  defined time range\n",
        "for date in Time:\n",
        "  Recovered.append((date == recovered_dates).sum())\n",
        "  Confirmed.append((date == diagnosis_dates).sum())\n",
        "  Deaths.append((date == death_dates).sum())\n",
        "\n",
        "# Plot the time series\n",
        "import matplotlib.pyplot as plt\n",
        "range_days = list(range(0, total_days + 1))\n",
        "plt.figure(figsize=(8, 8))\n",
        "plt.rcParams.update({'axes.titlesize': 'xx-large'}) \n",
        "plt.plot(range_days, np.cumsum(Recovered), label='Recovered')\n",
        "plt.plot(range_days, np.cumsum(Confirmed), label='Infected')\n",
        "plt.plot(range_days, np.cumsum(Deaths), label='Deaths')\n",
        "plt.xlabel('Time (days)')\n",
        "plt.ylabel('Number of people')\n",
        "plt.legend()\n",
        "plt.grid()\n",
        "plt.title('Colombia COVID-19 dataset')\n",
        "plt.show()"
      ],
      "execution_count": 163,
      "outputs": [
        {
          "output_type": "display_data",
          "data": {
            "image/png": "[encoded data removed]",
            "text/plain": [
              "<Figure size 576x576 with 1 Axes>"
            ]
          },
          "metadata": {
            "tags": [],
            "needs_background": "light"
          }
        }
      ]
    }
  ]
}