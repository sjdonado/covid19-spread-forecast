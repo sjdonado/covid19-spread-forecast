{
  "nbformat": 4,
  "nbformat_minor": 0,
  "metadata": {
    "colab": {
      "name": "sir_covid_forecasting_colombia.ipynb",
      "provenance": [],
      "collapsed_sections": [],
      "toc_visible": true,
      "authorship_tag": "ABX9TyPmtcwsUvuPtwvy/5e2qOvH",
      "include_colab_link": true
    },
    "kernelspec": {
      "name": "python3",
      "display_name": "Python 3"
    }
  },
  "cells": [
    {
      "cell_type": "markdown",
      "metadata": {
        "id": "view-in-github",
        "colab_type": "text"
      },
      "source": [
        "<a href=\"https://colab.research.google.com/github/sjdonado/covid19-spread-forecast/blob/master/sir_covid_forecasting_colombia.ipynb\" target=\"_parent\"><img src=\"https://colab.research.google.com/assets/colab-badge.svg\" alt=\"Open In Colab\"/></a>"
      ]
    },
    {
      "cell_type": "markdown",
      "metadata": {
        "id": "z1iySN_ibifl",
        "colab_type": "text"
      },
      "source": [
        "# COVID-19 Spread Forecasting\n",
        "\n",
        "This is a research project with the purpose of building a model to make forecasts of the COVID-19 in Colombia.\n",
        "\n",
        "Students:\n",
        "- Oskhar Arrieta\n",
        "- Juan Estrada\n",
        "- Sharon Figueroa\n",
        "- Brian Ramirez\n",
        "- Juan Rodriguez\n",
        "- Cristian Yepes\n",
        "\n",
        "*Universidad del Norte, 2020*"
      ]
    },
    {
      "cell_type": "markdown",
      "metadata": {
        "id": "V1zP_9qPcUkm",
        "colab_type": "text"
      },
      "source": [
        "# Setup"
      ]
    },
    {
      "cell_type": "code",
      "metadata": {
        "id": "g3BNpsszaiJv",
        "colab_type": "code",
        "colab": {}
      },
      "source": [
        "# Import general libs\n",
        "import numpy as np\n",
        "from google.colab import drive\n",
        "drive.mount('/content/drive')\n",
        "DRIVE_ROOT_PATH = '/content/drive/Shared drives/data-mining/'"
      ],
      "execution_count": 0,
      "outputs": []
    },
    {
      "cell_type": "markdown",
      "metadata": {
        "id": "Qu3hu0iAbjZU",
        "colab_type": "text"
      },
      "source": [
        "# Data preparation"
      ]
    },
    {
      "cell_type": "markdown",
      "metadata": {
        "id": "2X-lGDTZchaN",
        "colab_type": "text"
      },
      "source": [
        "## Load dataset"
      ]
    },
    {
      "cell_type": "code",
      "metadata": {
        "id": "-a40qqCMckjh",
        "colab_type": "code",
        "colab": {}
      },
      "source": [
        "# Read local data\n",
        "import pandas as pd\n",
        "dataset = pd.read_csv(f'{DRIVE_ROOT_PATH}dataset/Casos_positivos_de_COVID-19_en_Colombia.csv',\n",
        "                      sep=',',\n",
        "                      infer_datetime_format=True\n",
        "                     )\n",
        "\n",
        "# Use custom columns name\n",
        "dataset.columns = [\n",
        "                    'id_case', \n",
        "                    'notification_date',\n",
        "                    'code', \n",
        "                    'city',\n",
        "                    'department',\n",
        "                    'current_status',\n",
        "                    'age',\n",
        "                    'sex',\n",
        "                    'type',\n",
        "                    'status',\n",
        "                    'country_origin',\n",
        "                    'fis',\n",
        "                    'death_date',\n",
        "                    'diagnosis_date',\n",
        "                    'recover_date',\n",
        "                    'web_report_date',\n",
        "                    'recover_type'\n",
        "                  ]"
      ],
      "execution_count": 0,
      "outputs": []
    },
    {
      "cell_type": "markdown",
      "metadata": {
        "id": "pnQ_xC7ldpu9",
        "colab_type": "text"
      },
      "source": [
        "## Preprocess dataset"
      ]
    },
    {
      "cell_type": "code",
      "metadata": {
        "id": "Do-tVOhnduMJ",
        "colab_type": "code",
        "colab": {}
      },
      "source": [
        "# Lowercase the current_status column. Some labels have capital letter\n",
        "dataset.current_status = dataset.current_status.str.casefold()\n",
        "\n",
        "# Merge categories into 3 (Recovered, Confirmed, Dead)\n",
        "dataset.loc[\n",
        "            dataset.current_status.isin(['recuperado', 'recuperado (hospital)']), \n",
        "            'current_status'\n",
        "           ] = 'recovered'\n",
        "\n",
        "dataset.loc[\n",
        "            dataset.current_status.isin(['casa', 'hospital', 'hospital uci']), \n",
        "            'current_status'\n",
        "           ] = 'confirmed'\n",
        "\n",
        "dataset.loc[dataset.current_status == 'fallecido', 'current_status'] = 'dead'\n",
        "\n",
        "# Parse dates columns into Datetime\n",
        "dataset.diagnosis_date = pd.to_datetime(dataset.loc[dataset.diagnosis_date != 'SIN DATO', 'diagnosis_date'])\n",
        "dataset.death_date = pd.to_datetime(dataset.loc[dataset.death_date != 'SIN DATO', 'death_date'])\n",
        "dataset.recover_date = pd.to_datetime(dataset.loc[dataset.recover_date != 'SIN DATO', 'recover_date'])"
      ],
      "execution_count": 0,
      "outputs": []
    },
    {
      "cell_type": "markdown",
      "metadata": {
        "id": "HSasn5GVmqmB",
        "colab_type": "text"
      },
      "source": [
        "## Generate time series from the current data"
      ]
    },
    {
      "cell_type": "code",
      "metadata": {
        "id": "aYshBd3XmvDh",
        "colab_type": "code",
        "outputId": "d7a8fb97-10e9-4387-fd50-9dfc83a51cc8",
        "colab": {
          "base_uri": "https://localhost:8080/",
          "height": 517
        }
      },
      "source": [
        "# Split data into arrays which represent all the possible statuses\n",
        "diagnosis_dates = dataset.loc[dataset.diagnosis_date.notna(), 'diagnosis_date']\n",
        "death_dates = dataset.loc[dataset.death_date.notna(), 'death_date']\n",
        "recovered_dates = dataset.loc[dataset.recover_date.notna(), 'recover_date']\n",
        "\n",
        "# Get minimum and maximun date in order to build the time range\n",
        "first_date = dataset.diagnosis_date[0]\n",
        "last_date = max([*diagnosis_dates, *death_dates, *recovered_dates])\n",
        "\n",
        "total_days = (last_date - first_date).days\n",
        "Recovered = []\n",
        "Confirmed = []\n",
        "Deaths = []\n",
        "\n",
        "# Create the time range\n",
        "Time = pd.date_range(start=first_date, end=last_date).tolist()\n",
        "\n",
        "# Loop through the  defined time range\n",
        "for date in Time:\n",
        "  Recovered.append((date == recovered_dates).sum())\n",
        "  Confirmed.append((date == diagnosis_dates).sum())\n",
        "  Deaths.append((date == death_dates).sum())\n",
        "\n",
        "# Plot the time series\n",
        "import matplotlib.pyplot as plt\n",
        "range_days = list(range(0, total_days + 1))\n",
        "plt.figure(figsize=(8, 8))\n",
        "plt.rcParams.update({'axes.titlesize': 'xx-large'}) \n",
        "plt.plot(range_days, np.cumsum(Recovered), label='Recovered')\n",
        "plt.plot(range_days, np.cumsum(Confirmed), label='Infected')\n",
        "plt.plot(range_days, np.cumsum(Deaths), label='Deaths')\n",
        "plt.xlabel('Time (days)')\n",
        "plt.ylabel('Number of people')\n",
        "plt.legend()\n",
        "plt.grid()\n",
        "plt.title('Colombia COVID-19 dataset')\n",
        "plt.show()"
      ],
      "execution_count": 10,
      "outputs": [
        {
          "output_type": "display_data",
          "data": {
            "image/png": "[encoded data removed]",
            "text/plain": [
              "<Figure size 576x576 with 1 Axes>"
            ]
          },
          "metadata": {
            "tags": [],
            "needs_background": "light"
          }
        }
      ]
    },
    {
      "cell_type": "markdown",
      "metadata": {
        "id": "a-p7pTD-3CGL",
        "colab_type": "text"
      },
      "source": [
        "# SIR Model fiting"
      ]
    },
    {
      "cell_type": "markdown",
      "metadata": {
        "id": "TI0J2GNm3S7K",
        "colab_type": "text"
      },
      "source": [
        "## Define model parameters"
      ]
    },
    {
      "cell_type": "code",
      "metadata": {
        "id": "lLIvbKis4xyL",
        "colab_type": "code",
        "colab": {}
      },
      "source": [
        "# Colombia population according to DANE (2018)\n",
        "colombia_population = 48258494 \n",
        "\n",
        "# Average virus duration in a host\n",
        "avg_virus_duration = 14\n",
        "\n",
        "# Recovery rate\n",
        "gamma = 1 / avg_virus_duration\n",
        "\n",
        "# Basic reproduction number - According to official articles, 2 <= R0 <= 3\n",
        "R0 = 3\n",
        "\n",
        "# Infection rate (interaction rate * Probability of infection)\n",
        "beta = gamma * R0"
      ],
      "execution_count": 0,
      "outputs": []
    },
    {
      "cell_type": "markdown",
      "metadata": {
        "id": "OL28H-jLCPkb",
        "colab_type": "text"
      },
      "source": [
        "## Define the model function"
      ]
    },
    {
      "cell_type": "code",
      "metadata": {
        "id": "F5UQ4ztQCflx",
        "colab_type": "code",
        "colab": {}
      },
      "source": [
        "def SIR(y, t, N, beta, gamma):\n",
        "  S, I, R = y\n",
        "  dS = -beta * S * I / N\n",
        "  dI = beta * S * I / N - gamma * I\n",
        "  dR = gamma * I\n",
        "  return dS, dI, dR"
      ],
      "execution_count": 0,
      "outputs": []
    },
    {
      "cell_type": "markdown",
      "metadata": {
        "id": "QLn6ZQDj7Tij",
        "colab_type": "text"
      },
      "source": [
        "# Results"
      ]
    },
    {
      "cell_type": "markdown",
      "metadata": {
        "id": "uYIhzutwDR66",
        "colab_type": "text"
      },
      "source": [
        "## Solve SIR equations system"
      ]
    },
    {
      "cell_type": "code",
      "metadata": {
        "id": "OAOLVjwKDDEz",
        "colab_type": "code",
        "colab": {}
      },
      "source": [
        "# Define range time to forecast with SIR\n",
        "T = list(range(0, 360))\n",
        "\n",
        "# Define the initial conditions\n",
        "I0, R0, D0 = Confirmed[0], Recovered[0], Deaths[0]\n",
        "initial_condition = colombia_population - I0 + R0 + D0, I0, R0\n",
        "\n",
        "# Solve the ODE\n",
        "from scipy.integrate import odeint\n",
        "ret = odeint(SIR, initial_condition, range_days, args=(colombia_population, beta, gamma))\n",
        "S, I, R = ret.T"
      ],
      "execution_count": 0,
      "outputs": []
    },
    {
      "cell_type": "markdown",
      "metadata": {
        "id": "wtmz0KdJGHMh",
        "colab_type": "text"
      },
      "source": [
        "## Plot SIR solution"
      ]
    },
    {
      "cell_type": "code",
      "metadata": {
        "id": "cFv53ekQGLiU",
        "colab_type": "code",
        "colab": {
          "base_uri": "https://localhost:8080/",
          "height": 517
        },
        "outputId": "a5225b27-d0bd-4da7-be93-e6252ffb2464"
      },
      "source": [
        "plt.figure(figsize=(8, 8))\n",
        "plt.rcParams.update({'axes.titlesize': 'xx-large'}) \n",
        "plt.plot(range_days, S, label='Susceptible')\n",
        "plt.plot(range_days, I, label='Infected')\n",
        "plt.plot(range_days, R, label='Recovered')\n",
        "plt.xlabel('Time (days)')\n",
        "plt.ylabel('Number of people')\n",
        "plt.legend()\n",
        "plt.grid()\n",
        "plt.title('SIR Model')\n",
        "plt.show()"
      ],
      "execution_count": 68,
      "outputs": [
        {
          "output_type": "display_data",
          "data": {
            "image/png": "[encoded data removed]",
            "text/plain": [
              "<Figure size 576x576 with 1 Axes>"
            ]
          },
          "metadata": {
            "tags": [],
            "needs_background": "light"
          }
        }
      ]
    },
    {
      "cell_type": "markdown",
      "metadata": {
        "id": "zh_-Xwfx7VtF",
        "colab_type": "text"
      },
      "source": [
        "# References\n",
        "\n",
        "- https://www.ucm.es/icei/file/iceipapercovid12\n",
        "- http://www.scielo.org.co/pdf/rsap/v22n1/0124-0064-rsap-22-01-e185977.pdf\n",
        "- http://revistaendocrino.org/index.php/rcedm/article/view/572/755"
      ]
    }
  ]
}